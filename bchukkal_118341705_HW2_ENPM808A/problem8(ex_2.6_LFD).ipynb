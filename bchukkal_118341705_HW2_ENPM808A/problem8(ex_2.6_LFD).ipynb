{
 "cells": [
  {
   "cell_type": "code",
   "execution_count": 4,
   "metadata": {},
   "outputs": [
    {
     "name": "stdout",
     "output_type": "stream",
     "text": [
      "The Ein for Training set is : 0.11509037065006825\n",
      "The Ein for Test set is : 0.09603227913199208\n"
     ]
    }
   ],
   "source": [
    "import numpy as np\n",
    "\n",
    "def  in_samp_er(N, M, delta):\n",
    "    bound = np.sqrt((1/(2*N))*np.log(2*M/delta))\n",
    "    return bound\n",
    "    \n",
    "if __name__ == \"__main__\":\n",
    "    # Train Bound\n",
    "    N = 400\n",
    "    M = 1000\n",
    "    delta = 0.05\n",
    "    Train_bound = in_samp_er(N, M, delta)\n",
    "    print (\"The Ein for Training set is :\", Train_bound)\n",
    "    \n",
    "    # Test Bound\n",
    "    N = 200\n",
    "    M = 1 # Final hypothesis g is decided\n",
    "    delta = 0.05\n",
    "    Test_bound = in_samp_er(N, M, delta)\n",
    "    print (\"The Ein for Test set is :\", Test_bound)"
   ]
  }
 ],
 "metadata": {
  "kernelspec": {
   "display_name": "Python 3.9.7 ('base')",
   "language": "python",
   "name": "python3"
  },
  "language_info": {
   "codemirror_mode": {
    "name": "ipython",
    "version": 3
   },
   "file_extension": ".py",
   "mimetype": "text/x-python",
   "name": "python",
   "nbconvert_exporter": "python",
   "pygments_lexer": "ipython3",
   "version": "3.9.7"
  },
  "orig_nbformat": 4,
  "vscode": {
   "interpreter": {
    "hash": "60551dc04f84fcd2d68ca7dc7dab21d5aaf0db3a1ec724ed163f428db60a39b7"
   }
  }
 },
 "nbformat": 4,
 "nbformat_minor": 2
}
