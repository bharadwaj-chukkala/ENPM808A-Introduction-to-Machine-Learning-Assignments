{
 "cells": [
  {
   "cell_type": "code",
   "execution_count": 1,
   "metadata": {},
   "outputs": [
    {
     "name": "stdout",
     "output_type": "stream",
     "text": [
      "The Examples we need to make Er <= 0.05 for M = 1:\tN = 839.9410155759854\n",
      "The Examples we need to make Er <= 0.05 for M = 100:\tN = 1760.9750527736035\n",
      "The Examples we need to make Er <= 0.05 for M = 10000:\tN = 2682.009089971222\n"
     ]
    }
   ],
   "source": [
    "'''\n",
    "Author: Bharadwaj Chukkala (bchukkal@umd.edu)\n",
    "'''\n",
    "import numpy as np\n",
    "\n",
    "def Sample_size(M, Er, tol):\n",
    "    \"\"\"\n",
    "    Summary: Function to Calculate the Sample size given the Hypothesis,\n",
    "    Error Tolerance and Confidence Parameter\n",
    "    \n",
    "    Args:\n",
    "        M (integer): Hypothesis\n",
    "        Er (double): Error tolerance\n",
    "        tol (double): Confidence parameters (delta)\n",
    "\n",
    "    Returns:\n",
    "        N (double): Sample size\n",
    "    \"\"\"\n",
    "    N = np.log(2*M/tol)*(1/(2*Er*Er))\n",
    "    return N\n",
    "\n",
    "if __name__ == \"__main__\":\n",
    "    Er = 0.05\n",
    "    tol = 0.03\n",
    "    for M in 1, 100, 10000:\n",
    "        N = Sample_size(M, Er, tol)\n",
    "        print(\"The Examples we need to make Er <= 0.05 for M = {}:\\tN = {}\".format(M, N))"
   ]
  }
 ],
 "metadata": {
  "kernelspec": {
   "display_name": "Python 3.9.7 ('base')",
   "language": "python",
   "name": "python3"
  },
  "language_info": {
   "codemirror_mode": {
    "name": "ipython",
    "version": 3
   },
   "file_extension": ".py",
   "mimetype": "text/x-python",
   "name": "python",
   "nbconvert_exporter": "python",
   "pygments_lexer": "ipython3",
   "version": "3.9.7"
  },
  "orig_nbformat": 4,
  "vscode": {
   "interpreter": {
    "hash": "60551dc04f84fcd2d68ca7dc7dab21d5aaf0db3a1ec724ed163f428db60a39b7"
   }
  }
 },
 "nbformat": 4,
 "nbformat_minor": 2
}
