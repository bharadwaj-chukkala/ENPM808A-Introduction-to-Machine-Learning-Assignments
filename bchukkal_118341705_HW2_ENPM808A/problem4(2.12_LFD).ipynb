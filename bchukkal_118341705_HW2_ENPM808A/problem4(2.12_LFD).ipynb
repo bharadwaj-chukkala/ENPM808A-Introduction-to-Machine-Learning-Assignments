{
 "cells": [
  {
   "cell_type": "code",
   "execution_count": 3,
   "metadata": {},
   "outputs": [
    {
     "name": "stdout",
     "output_type": "stream",
     "text": [
      "The Sample Size Converges at N =  452956\n"
     ]
    }
   ],
   "source": [
    "import numpy as np\n",
    "\n",
    "dvc = 10 # VC Dimension\n",
    "delta = 0.05 # Confidence Parameter\n",
    "E = 0.05 # Generalization error\n",
    "N_init = 1000 # Initial N\n",
    "\n",
    "def Sample_size(dvc, N, delta, E):\n",
    "    for i in range(1000):\n",
    "        log_numerator = 4 * (np.power((2*N), dvc)+1)\n",
    "        N_new= (8/(E*E)) * np.log(log_numerator/delta)\n",
    "        N = N_new\n",
    "    \n",
    "    return int(N_new)\n",
    "N = Sample_size(dvc, N_init, delta, E)\n",
    "print (\"The Sample Size Converges at N = \", N)\n",
    "\n"
   ]
  }
 ],
 "metadata": {
  "kernelspec": {
   "display_name": "Python 3.9.7 ('base')",
   "language": "python",
   "name": "python3"
  },
  "language_info": {
   "codemirror_mode": {
    "name": "ipython",
    "version": 3
   },
   "file_extension": ".py",
   "mimetype": "text/x-python",
   "name": "python",
   "nbconvert_exporter": "python",
   "pygments_lexer": "ipython3",
   "version": "3.9.7"
  },
  "orig_nbformat": 4,
  "vscode": {
   "interpreter": {
    "hash": "60551dc04f84fcd2d68ca7dc7dab21d5aaf0db3a1ec724ed163f428db60a39b7"
   }
  }
 },
 "nbformat": 4,
 "nbformat_minor": 2
}
