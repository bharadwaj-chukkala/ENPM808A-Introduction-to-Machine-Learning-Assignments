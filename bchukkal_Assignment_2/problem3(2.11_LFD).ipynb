{
 "cells": [
  {
   "cell_type": "code",
   "execution_count": 2,
   "metadata": {},
   "outputs": [
    {
     "name": "stdout",
     "output_type": "stream",
     "text": [
      "For N = 100 the VC Bound = 0.8481596247015304\n",
      "For N = 10000 the VC Bound = 0.10427815497178729\n"
     ]
    }
   ],
   "source": [
    "import numpy as np\n",
    "\n",
    "def gen_bound(N, delta, dvc):\n",
    "    log_term_num = 4*(np.power((2*N),dvc)+1)\n",
    "    bound = np.sqrt((8/N)*np.log((log_term_num/delta)))\n",
    "    return bound\n",
    "\n",
    "def growth(N):\n",
    "    return N+1\n",
    "\n",
    "if __name__ == \"__main__\":\n",
    "    delta = 0.1 #confidence = 90%\n",
    "    dvc = 1 #VC dimension = 1\n",
    "    for N in 100, 10000:\n",
    "        bound = gen_bound(N, delta, dvc)\n",
    "        print(\"For N = {} the VC Bound = {}\".format(N, bound))"
   ]
  }
 ],
 "metadata": {
  "kernelspec": {
   "display_name": "Python 3.9.7 ('base')",
   "language": "python",
   "name": "python3"
  },
  "language_info": {
   "codemirror_mode": {
    "name": "ipython",
    "version": 3
   },
   "file_extension": ".py",
   "mimetype": "text/x-python",
   "name": "python",
   "nbconvert_exporter": "python",
   "pygments_lexer": "ipython3",
   "version": "3.9.7"
  },
  "orig_nbformat": 4,
  "vscode": {
   "interpreter": {
    "hash": "60551dc04f84fcd2d68ca7dc7dab21d5aaf0db3a1ec724ed163f428db60a39b7"
   }
  }
 },
 "nbformat": 4,
 "nbformat_minor": 2
}
