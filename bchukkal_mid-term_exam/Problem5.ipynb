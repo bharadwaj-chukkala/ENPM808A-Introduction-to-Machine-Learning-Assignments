{
 "cells": [
  {
   "cell_type": "code",
   "execution_count": 56,
   "metadata": {},
   "outputs": [
    {
     "name": "stdout",
     "output_type": "stream",
     "text": [
      "Plotting of level sets\n"
     ]
    },
    {
     "data": {
      "image/png": "[encoded data removed]",
      "text/plain": [
       "<Figure size 432x288 with 2 Axes>"
      ]
     },
     "metadata": {
      "needs_background": "light"
     },
     "output_type": "display_data"
    },
    {
     "name": "stdout",
     "output_type": "stream",
     "text": [
      "The Progressive Convergence to minimum\n"
     ]
    },
    {
     "data": {
      "image/png": "[encoded data removed]",
      "text/plain": [
       "<Figure size 432x288 with 1 Axes>"
      ]
     },
     "metadata": {
      "needs_background": "light"
     },
     "output_type": "display_data"
    }
   ],
   "source": [
    "import numpy as np\n",
    "import matplotlib.pyplot as plt\n",
    "\n",
    "## Part A (plotting)\n",
    "def plot_level_set():\n",
    "    X = np.linspace(-1, 0.5, 1000)\n",
    "    Y = np.linspace(-0.5, 0.5, 1000)\n",
    "    x1, y1 = np.meshgrid(X, Y)\n",
    "    f = np.exp(x1+3*y1-0.1)+np.exp(x1-3*y1-0.1)+np.exp(-x1-0.1)\n",
    "    fig,ax=plt.subplots(1,1)\n",
    "    level_set = ax.contourf(x1, y1, f)\n",
    "    fig.colorbar(level_set)\n",
    "    print(\"Plotting of level sets\")\n",
    "    plt.show()\n",
    "  \n",
    "## Part B (Calculating Gradient Descent)\n",
    "def gradient_descent():\n",
    "    w=[0,0]\n",
    "    x1=w[0]\n",
    "    y1=w[1]\n",
    "\n",
    "    weights=[]\n",
    "    for i in range(0,50):\n",
    "        diffx = [np.exp(x1+3*y1-0.1)+np.exp(x1-3*y1-0.1)-np.exp(-x1-0.1)]\n",
    "        diffy = [3*np.exp(x1+3*y1-0.1)-3*np.exp(x1-3*y1-0.1)]\n",
    "        w[0] = w[0]+ [-0.1*k for k in diffx][0]\n",
    "        w[1] = w[1]+ [-0.1*k for k in diffy][0]\n",
    "        x1=w[0]\n",
    "        y1=w[1]\n",
    "        weights.append([x1,y1])\n",
    "    return weights\n",
    "\n",
    "## Part C (Plotting Progression towards minimum)\n",
    "def plot_convergence(list_of_weights):\n",
    "    Function_values=[]\n",
    "    for i in range(len(list_of_weights)):\n",
    "        x1=list_of_weights[i][0]\n",
    "        y1=list_of_weights[i][1]\n",
    "        func=np.exp(x1+3*y1-0.1)+np.exp(x1-3*y1-0.1)+np.exp(-x1-0.1)\n",
    "        Function_values.append(func)\n",
    "    print(\"The Progressive Convergence to minimum\")\n",
    "    plt.plot(np.arange(0,50),Function_values)\n",
    "    plt.show()\n",
    "\n",
    "if __name__ == \"__main__\":\n",
    "    plot_level_set()\n",
    "    weights = gradient_descent()\n",
    "    plot_convergence(weights)\n",
    "    \n"
   ]
  }
 ],
 "metadata": {
  "kernelspec": {
   "display_name": "Python 3.9.12 ('myEnv')",
   "language": "python",
   "name": "python3"
  },
  "language_info": {
   "codemirror_mode": {
    "name": "ipython",
    "version": 3
   },
   "file_extension": ".py",
   "mimetype": "text/x-python",
   "name": "python",
   "nbconvert_exporter": "python",
   "pygments_lexer": "ipython3",
   "version": "3.9.12"
  },
  "orig_nbformat": 4,
  "vscode": {
   "interpreter": {
    "hash": "499959d1cbf05cb37d10bb3b814bbbd8bc528760c5cdb20d34e356313c7f2d89"
   }
  }
 },
 "nbformat": 4,
 "nbformat_minor": 2
}
